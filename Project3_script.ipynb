{
 "cells": [
  {
   "cell_type": "code",
   "execution_count": 6,
   "metadata": {},
   "outputs": [],
   "source": [
    "from sqlalchemy import create_engine\n",
    "from sqlalchemy import Table, Column, Integer, String, MetaData, ForeignKey\n",
    "from sqlalchemy import DateTime, Boolean\n",
    "from sqlalchemy import exists\n",
    "from sqlalchemy import sql, select, join, desc, Float\n",
    "\n",
    "\n",
    "engine = create_engine('sqlite:///AlachuaChordates.sqlite')\n",
    "\n",
    "metadata=MetaData()\n",
    "\n",
    "\n",
    "# Try to load taxonomy info from database, if not there, create it.\n",
    "try:\n",
    "    Taxonomy=Table('Taxonomy', metdata, autoload=True)\n",
    "except:\n",
    "    Taxonomy = Table ('Taxonomy', metadata,\n",
    "                     Column('Genus', String, primary_key=True),\n",
    "                     Column('Family', String),\n",
    "                     Column('Class', String), \n",
    "                     Column('Order',String)\n",
    "                     )\n",
    "    \n",
    "# Same for Specimens table. \n",
    "try: \n",
    "    Specimens=Table('Specimens', metadata, autoload=True)\n",
    "except:\n",
    "    Specimens = Table ('Specimens', metadata,\n",
    "                   Column('coreID', String, primary_key = True),\n",
    "                   Column('InstitutionCode', String),\n",
    "                   Column('CollectionCode', String),    \n",
    "                   Column('CatalogueNumber',String), \n",
    "                   Column('Genus', String, ForeignKey(\"Taxonomy.Genus\")), \n",
    "                   Column('Species', String),\n",
    "                   Column('CollectionDate',String) \n",
    "                   ) \n",
    "    \n",
    "metadata.create_all(engine)"
   ]
  },
  {
   "cell_type": "code",
   "execution_count": 8,
   "metadata": {},
   "outputs": [
    {
     "name": "stdout",
     "output_type": "stream",
     "text": [
      "{'ambystoma': ['ambystomatidae', 'amphibia', 'caudata'], 'etheostoma': ['percidae', 'actinopterygii', 'perciformes'], 'notropis': ['cyprinidae', 'actinopterygii', 'cypriniformes'], 'gambusia': ['poeciliidae', 'actinopterygii', 'cyprinodontiformes'], 'jordanella': ['cyprinodontidae', 'actinopterygii', 'cyprinodontiformes'], 'fundulus': ['fundulidae', 'actinopterygii', 'cyprinodontiformes'], 'elassoma': ['elassomatidae', 'actinopterygii', 'perciformes'], 'heterandria': ['poeciliidae', 'actinopterygii', 'cyprinodontiformes'], 'hyla': ['hylidae', 'amphibia', 'anura'], 'rana': ['ranidae', 'amphibia', 'anura'], 'notophthalmus': ['salamandridae', 'amphibia', 'caudata'], 'desmognathus': ['plethodontidae', 'amphibia', 'caudata'], 'eurycea': ['plethodontidae', 'amphibia', 'caudata'], 'pseudacris': ['hylidae', 'amphibia', 'anura'], 'liodytes': ['natricidae', 'reptilia', 'squamata'], 'rhineura': ['rhineuridae', 'reptilia', 'squamata'], 'pseudobranchus': ['sirenidae', 'amphibia', 'caudata'], 'lithobates': ['ranidae', 'amphibia', 'anura'], 'natrix': ['colubridae', 'reptilia', 'squamata'], 'notemigonus': ['cyprinidae', 'actinopterygii', 'cypriniformes'], 'nerodia': ['colubridae', 'reptilia', 'squamata'], 'storeria': ['colubridae', 'reptilia', 'squamata'], 'kinosternon': ['kinosternidae', 'reptilia', 'testudines'], 'acris': ['hylidae', 'amphibia', 'anura'], 'aythya': ['anatidae', 'aves', 'anseriformes'], 'anaxyrus': ['bufonidae', 'amphibia', 'anura'], 'lampropeltis': ['colubridae', 'reptilia', 'squamata'], 'coluber': ['colubridae', 'reptilia', 'squamata'], 'alligator': ['alligatoridae', 'reptilia', 'crocodylia'], 'pseudemys': ['emydidae', 'reptilia', 'testudines'], 'scincella': ['scincidae', 'reptilia', 'squamata'], 'lepomis': ['centrarchidae', 'actinopterygii', 'perciformes'], 'dorosoma': ['clupeidae', 'actinopterygii', 'clupeiformes'], 'leptolucania': ['fundulidae', 'actinopterygii', 'cyprinodontiformes'], 'enneacanthus': ['centrarchidae', 'actinopterygii', 'perciformes'], 'mniotilta': ['parulidae', 'aves', 'passeriformes'], 'siren': ['sirenidae', 'amphibia', 'caudata'], 'terrapene': ['emydidae', 'reptilia', 'testudines'], 'hemidactylus': ['gekkonidae', 'reptilia', 'squamata'], 'thamnophis': ['colubridae', 'reptilia', 'squamata'], 'regina': ['colubridae', 'reptilia', 'squamata'], 'seminatrix': ['colubridae', 'reptilia', 'squamata'], 'farancia': ['colubridae', 'reptilia', 'squamata'], 'gastrophryne': ['microhylidae', 'amphibia', 'anura'], 'pantherophis': ['colubridae', 'reptilia', 'squamata'], 'plestiodon': ['scincidae', 'reptilia', 'squamata'], 'bufo': ['bufonidae', 'amphibia', 'anura'], 'eleutherodactylus': ['eleutherodactylidae', 'amphibia', 'anura'], 'diadophis': ['colubridae', 'reptilia', 'squamata'], 'xiphophorus': ['poeciliidae', 'actinopterygii', 'cyprinodontiformes'], 'aspidoscelis': ['teiidae', 'reptilia', 'squamata'], 'micrurus': ['elapidae', 'reptilia', 'squamata'], 'crotalus': ['viperidae', 'reptilia', 'squamata'], 'sternotherus': ['kinosternidae', 'reptilia', 'testudines'], 'anolis': ['dactyloidae', 'reptilia', 'squamata'], 'scaphiopus': ['scaphiopodidae', 'amphibia', 'anura'], 'trachemys': ['emydidae', 'reptilia', 'testudines'], 'ophisaurus': ['anguidae', 'reptilia', 'squamata'], 'deirochelys': ['emydidae', 'reptilia', 'testudines'], 'apalone': ['trionychidae', 'reptilia', 'testudines'], 'heterodon': ['colubridae', 'reptilia', 'squamata'], 'agkistrodon': ['viperidae', 'reptilia', 'squamata'], 'plethodon': ['plethodontidae', 'amphibia', 'caudata'], 'amphiuma': ['amphiumidae', 'amphibia', 'caudata'], 'gopherus': ['testudinidae', 'reptilia', 'testudines'], 'tantilla': ['colubridae', 'reptilia', 'squamata'], 'osteopilus': ['hylidae', 'amphibia', 'anura'], 'rhadinaea': ['colubridae', 'reptilia', 'squamata'], 'cemophora': ['colubridae', 'reptilia', 'squamata'], 'masticophis': ['colubridae', 'reptilia', 'squamata'], 'opheodrys': ['colubridae', 'reptilia', 'squamata'], 'didelphis': ['didelphidae', 'mammalia', 'didelphimorphia'], 'esox': ['esocidae', 'actinopterygii', 'esociformes'], 'peromyscus': ['cricetidae', 'mammalia', 'rodentia'], 'sigmodon': ['cricetidae', 'mammalia', 'rodentia'], 'aphredoderus': ['aphredoderidae', 'actinopterygii', 'percopsiformes'], 'archosargus': ['sparidae', 'actinopterygii', 'perciformes'], 'scalopus': ['talpidae', 'mammalia', 'soricomorpha'], 'ramphotyphlops': ['typhlopidae', 'reptilia', 'squamata'], 'geomys': ['geomyidae', 'mammalia', 'rodentia'], 'pomoxis': ['centrarchidae', 'actinopterygii', 'perciformes'], 'tilapia': ['cichlidae', 'actinopterygii', 'perciformes'], 'pseudotriton': ['plethodontidae', 'amphibia', 'caudata'], 'zenaida': ['columbidae', 'aves', 'columbiformes'], 'ameiurus': ['ictaluridae', 'actinopterygii', 'siluriformes'], 'elaphe': ['colubridae', 'reptilia', 'squamata'], 'tadarida': ['molossidae', 'mammalia', 'chiroptera'], 'molothrus': ['icteridae', 'aves', 'passeriformes'], 'ictalurus': ['ictaluridae', 'actinopterygii', 'siluriformes'], 'lasiurus': ['vespertilionidae', 'mammalia', 'chiroptera'], 'geothlypis': ['parulidae', 'aves', 'passeriformes'], 'neotoma': ['cricetidae', 'mammalia', 'rodentia'], 'oreochromis': ['cichlidae', 'actinopterygii', 'perciformes'], 'reithrodontomys': ['cricetidae', 'mammalia', 'rodentia'], 'erimyzon': ['catostomidae', 'actinopterygii', 'cypriniformes'], 'chitala': ['notopteridae', 'actinopterygii', 'osteoglossiformes'], 'bubo': ['strigidae', 'aves', 'strigiformes'], 'noturus': ['ictaluridae', 'actinopterygii', 'siluriformes'], 'cardinalis': ['cardinalidae', 'aves', 'passeriformes'], 'platycercus': ['psittacidae', 'aves', 'psittaciformes'], 'egretta': ['ardeidae', 'aves', 'pelecaniformes'], 'agelaius': ['icteridae', 'aves', 'passeriformes'], 'labidesthes': ['atherinopsidae', 'actinopterygii', 'atheriniformes'], 'sistrurus': ['viperidae', 'reptilia', 'squamata'], 'pituophis': ['colubridae', 'reptilia', 'squamata'], 'haliaeetus': ['accipitridae', 'aves', 'accipitriformes'], 'micropterus': ['centrarchidae', 'actinopterygii', 'perciformes'], 'sylvilagus': ['leporidae', 'mammalia', 'lagomorpha'], 'mauremys': ['geoemydidae', 'reptilia', 'testudines'], 'cnemidophorus': ['teiidae', 'reptilia', 'squamata'], 'poecilia': ['poeciliidae', 'actinopterygii', 'cyprinodontiformes'], 'lanius': ['laniidae', 'aves', 'passeriformes'], 'chelydra': ['chelydridae', 'reptilia', 'testudines'], 'virginia': ['colubridae', 'reptilia', 'squamata'], 'phalacrocorax': ['phalacrocoracidae', 'aves', 'suliformes'], 'cyanocitta': ['corvidae', 'aves', 'passeriformes'], 'sceloporus': ['phrynosomatidae', 'reptilia', 'squamata'], 'phrynosoma': ['phrynosomatidae', 'reptilia', 'squamata'], 'epicrates': ['boidae', 'reptilia', 'squamata'], 'neofiber': ['cricetidae', 'mammalia', 'rodentia'], 'amia': ['amiidae', 'actinopterygii', 'amiiformes'], 'myotis': ['vespertilionidae', 'mammalia', 'chiroptera'], 'lepisosteus': ['lepisosteidae', 'actinopterygii', 'lepisosteiformes'], 'falco': ['falconidae', 'aves', 'falconiformes'], 'piranga': ['cardinalidae', 'aves', 'passeriformes'], 'progne': ['hirundinidae', 'aves', 'passeriformes'], 'podomys': ['cricetidae', 'mammalia', 'rodentia'], 'melanerpes': ['picidae', 'aves', 'piciformes'], 'cryptotis': ['soricidae', 'mammalia', 'soricomorpha'], 'centrarchus': ['centrarchidae', 'actinopterygii', 'perciformes'], 'lynx': ['felidae', 'mammalia', 'carnivora'], 'ctenopharyngodon': ['cyprinidae', 'actinopterygii', 'cypriniformes'], 'caprimulgus': ['caprimulgidae', 'aves', 'caprimulgiformes'], 'vireo': ['vireonidae', 'aves', 'passeriformes'], 'sphyrapicus': ['picidae', 'aves', 'piciformes'], 'buteo': ['accipitridae', 'aves', 'accipitriformes'], 'anhinga': ['anhingidae', 'aves', 'suliformes'], 'sciurus': ['sciuridae', 'mammalia', 'rodentia'], 'sturnus': ['sturnidae', 'aves', 'passeriformes'], 'eudocimus': ['threskiornithidae', 'aves', 'pelecaniformes'], 'sarotherodon': ['cichlidae', 'actinopterygii', 'perciformes'], 'eumeces': ['scincidae', 'reptilia', 'squamata'], 'boa': ['boidae', 'reptilia', 'squamata'], 'lucania': ['fundulidae', 'actinopterygii', 'cyprinodontiformes'], 'umbra': ['umbridae', 'actinopterygii', 'esociformes'], 'chaenobryttus': ['centrarchidae', 'actinopterygii', 'perciformes'], 'oryzomys': ['cricetidae', 'mammalia', 'rodentia'], 'ardea': ['ardeidae', 'aves', 'pelecaniformes'], 'rocio': ['cichlidae', 'actinopterygii', 'perciformes'], 'mus': ['muridae', 'mammalia', 'rodentia'], 'perimyotis': ['vespertilionidae', 'mammalia', 'chiroptera'], 'mephitis': ['mephitidae', 'mammalia', 'carnivora'], 'rattus': ['muridae', 'mammalia', 'rodentia'], 'blarina': ['soricidae', 'mammalia', 'soricomorpha'], 'sus': ['suidae', 'mammalia', 'artiodactyla'], 'bos': ['bovidae', 'mammalia', 'artiodactyla'], 'glaucomys': ['sciuridae', 'mammalia', 'rodentia'], 'urocyon': ['canidae', 'mammalia', 'carnivora'], 'ochrotomys': ['cricetidae', 'mammalia', 'rodentia'], 'sorex': ['soricidae', 'mammalia', 'soricomorpha'], 'cavia': ['caviidae', 'mammalia', 'rodentia'], 'marmota': ['sciuridae', 'mammalia', 'rodentia'], 'dasypus': ['dasypodidae', 'mammalia', 'cingulata'], 'saimiri': ['cebidae', 'mammalia', 'primates'], 'parus': ['paridae', 'aves', 'passeriformes'], 'zonotrichia': ['emberizidae', 'aves', 'passeriformes'], 'gallinula': ['rallidae', 'aves', 'gruiformes'], 'columbina': ['columbidae', 'aves', 'columbiformes'], 'limosa': ['scolopacidae', 'aves', 'charadriiformes'], 'dendroica': ['parulidae', 'aves', 'passeriformes'], 'picoides': ['picidae', 'aves', 'piciformes'], 'sialia': ['turdidae', 'aves', 'passeriformes'], 'setophaga': ['parulidae', 'aves', 'passeriformes'], 'cynoscion': ['sciaenidae', 'actinopterygii', 'perciformes'], 'quiscalus': ['icteridae', 'aves', 'passeriformes'], 'cyprinella': ['cyprinidae', 'actinopterygii', 'cypriniformes'], 'pteronotropis': ['cyprinidae', 'actinopterygii', 'cypriniformes'], 'mustela': ['mustelidae', 'mammalia', 'carnivora'], 'nycticeius': ['vespertilionidae', 'mammalia', 'chiroptera'], 'procyon': ['procyonidae', 'mammalia', 'carnivora'], 'dryocopus': ['picidae', 'aves', 'piciformes'], 'mugil': ['mugilidae', 'actinopterygii', 'mugiliformes'], 'chordeiles': ['caprimulgidae', 'aves', 'caprimulgiformes'], 'salvator': ['teiidae', 'reptilia', 'squamata'], 'gallinago': ['scolopacidae', 'aves', 'charadriiformes'], 'megascops': ['strigidae', 'aves', 'strigiformes'], 'cyprinus': ['cyprinidae', 'actinopterygii', 'cypriniformes'], 'haemorhous': ['fringillidae', 'aves', 'passeriformes'], 'turdus': ['turdidae', 'aves', 'passeriformes'], 'colinus': ['odontophoridae', 'aves', 'galliformes'], 'python': ['pythonidae', 'reptilia', 'squamata'], 'strix': ['strigidae', 'aves', 'strigiformes'], 'pipilo': ['emberizidae', 'aves', 'passeriformes'], 'catharus': ['turdidae', 'aves', 'passeriformes'], 'drymarchon': ['colubridae', 'reptilia', 'squamata'], 'grus': ['gruidae', 'aves', 'gruiformes'], 'astronotus': ['cichlidae', 'actinopterygii', 'perciformes'], 'coccyzus': ['cuculidae', 'aves', 'cuculiformes'], 'mimus': ['mimidae', 'aves', 'passeriformes'], 'pterygoplichthys': ['loricariidae', 'actinopterygii', 'siluriformes'], 'anas': ['anatidae', 'aves', 'anseriformes'], 'porphyrio': ['rallidae', 'aves', 'gruiformes'], 'opsopoeodus': ['cyprinidae', 'actinopterygii', 'cypriniformes'], 'percina': ['percidae', 'actinopterygii', 'perciformes'], 'acantharchus': ['centrarchidae', 'actinopterygii', 'perciformes'], 'pandion': ['pandionidae', 'aves', 'accipitriformes'], 'sitta': ['sittidae', 'aves', 'passeriformes'], 'lontra': ['mustelidae', 'mammalia', 'carnivora'], 'canis': ['canidae', 'mammalia', 'carnivora'], 'microtus': ['cricetidae', 'mammalia', 'rodentia'], 'mesocricetus': ['cricetidae', 'mammalia', 'rodentia'], 'trinectes': ['achiridae', 'actinopterygii', 'pleuronectiformes'], 'coragyps': ['cathartidae', 'aves', 'accipitriformes'], 'piaractus': ['serrasalmidae', 'actinopterygii', 'characiformes'], 'tyto': ['tytonidae', 'aves', 'strigiformes'], 'troglodytes': ['troglodytidae', 'aves', 'passeriformes'], 'dumetella': ['mimidae', 'aves', 'passeriformes'], 'seiurus': ['parulidae', 'aves', 'passeriformes'], 'nyctanassa': ['ardeidae', 'aves', 'pelecaniformes'], 'icterus': ['icteridae', 'aves', 'passeriformes'], 'telmatochromis': ['cichlidae', 'actinopterygii', 'perciformes'], 'polypterus': ['polypteridae', 'actinopterygii', 'polypteriformes'], 'aratinga': ['psittacidae', 'aves', 'psittaciformes'], 'bubulcus': ['ardeidae', 'aves', 'pelecaniformes'], 'hylocichla': ['turdidae', 'aves', 'passeriformes'], 'aprosmictus': ['psittacidae', 'aves', 'psittaciformes'], 'parula': ['parulidae', 'aves', 'passeriformes'], 'accipiter': ['accipitridae', 'aves', 'accipitriformes'], 'erythrura': ['estrildidae', 'aves', 'passeriformes'], 'anguilla': ['anguillidae', 'actinopterygii', 'anguilliformes'], 'colossoma': ['serrasalmidae', 'actinopterygii', 'characiformes'], 'peucaea': ['emberizidae', 'aves', 'passeriformes'], 'carassius': ['cyprinidae', 'actinopterygii', 'cypriniformes'], 'regulus': ['regulidae', 'aves', 'passeriformes'], 'hoplosternum': ['callichthyidae', 'actinopterygii', 'siluriformes'], 'corvus': ['corvidae', 'aves', 'passeriformes'], 'cassidix': ['', 'aves', ''], 'lygosoma': ['scincidae', 'reptilia', 'squamata'], 'pimephales': ['cyprinidae', 'actinopterygii', 'cypriniformes'], 'varanus': ['varanidae', 'reptilia', 'squamata'], 'podilymbus': ['podicipedidae', 'aves', 'podicipediformes'], 'spizella': ['emberizidae', 'aves', 'passeriformes'], 'passerculus': ['emberizidae', 'aves', 'passeriformes'], 'florida': ['', 'aves', ''], 'melospiza': ['emberizidae', 'aves', 'passeriformes'], 'butorides': ['ardeidae', 'aves', 'pelecaniformes'], 'agapornis': ['psittacidae', 'aves', 'psittaciformes'], 'gehyra': ['gekkonidae', 'reptilia', 'squamata'], 'lepus': ['leporidae', 'mammalia', 'lagomorpha'], 'meleagris': ['phasianidae', 'aves', 'galliformes'], 'passerina': ['cardinalidae', 'aves', 'passeriformes'], 'iguana': ['iguanidae', 'reptilia', 'squamata'], 'sagittaria': ['sagittariidae', 'aves', 'accipitriformes'], 'ammodramus': ['emberizidae', 'aves', 'passeriformes'], 'myiopsitta': ['psittacidae', 'aves', 'psittaciformes'], 'eptesicus': ['vespertilionidae', 'mammalia', 'chiroptera'], 'colaptes': ['picidae', 'aves', 'piciformes'], 'scolopax': ['scolopacidae', 'aves', 'charadriiformes'], 'dolichonyx': ['icteridae', 'aves', 'passeriformes'], 'brotogeris': ['psittacidae', 'aves', 'psittaciformes'], 'vermivora': ['parulidae', 'aves', 'passeriformes'], 'negaprion': ['carcharhinidae', 'elasmobranchii', 'carcharhiniformes'], 'ixobrychus': ['ardeidae', 'aves', 'pelecaniformes'], 'thryothorus': ['troglodytidae', 'aves', 'passeriformes'], 'menidia': ['atherinopsidae', 'actinopterygii', 'atheriniformes'], 'testudo': ['testudinidae', 'reptilia', 'testudines'], 'myodes': ['cricetidae', 'mammalia', 'rodentia'], 'meriones': ['muridae', 'mammalia', 'rodentia'], 'ovis': ['bovidae', 'mammalia', 'artiodactyla'], 'passer': ['passeridae', 'aves', 'passeriformes'], 'paralichthys': ['paralichthyidae', 'actinopterygii', 'pleuronectiformes'], 'lopholatilus': ['malacanthidae', 'actinopterygii', 'perciformes'], 'nycticorax': ['ardeidae', 'aves', 'pelecaniformes'], 'streptopelia': ['columbidae', 'aves', 'columbiformes'], 'triturus': ['salamandridae', 'amphibia', 'caudata'], 'toxostoma': ['mimidae', 'aves', 'passeriformes'], 'protonotaria': ['parulidae', 'aves', 'passeriformes'], 'baeolophus': ['paridae', 'aves', 'passeriformes'], 'polioptila': ['polioptilidae', 'aves', 'passeriformes'], 'calidris': ['scolopacidae', 'aves', 'charadriiformes'], 'amatitlania': ['cichlidae', 'actinopterygii', 'perciformes'], 'rostrhamus': ['accipitridae', 'aves', 'accipitriformes'], 'chrysemys': ['emydidae', 'reptilia', 'testudines'], 'carcharhinus': ['carcharhinidae', 'elasmobranchii', 'carcharhiniformes'], 'pelecanus': ['pelecanidae', 'aves', 'pelecaniformes'], 'fulica': ['rallidae', 'aves', 'gruiformes'], 'charadrius': ['charadriidae', 'aves', 'charadriiformes'], 'scotinomys': ['cricetidae', 'mammalia', 'rodentia'], 'plegadis': ['threskiornithidae', 'aves', 'pelecaniformes'], 'minytrema': ['catostomidae', 'actinopterygii', 'cypriniformes'], 'scomberomorus': ['scombridae', 'actinopterygii', 'perciformes'], 'leiocephalus': ['leiocephalidae', 'reptilia', 'squamata'], 'contopus': ['tyrannidae', 'aves', 'passeriformes'], 'hemipristis': ['hemigaleidae', 'elasmobranchii', 'carcharhiniformes'], 'neophema': ['psittacidae', 'aves', 'psittaciformes'], 'graptemys': ['emydidae', 'reptilia', 'testudines'], 'geochelone': ['testudinidae', 'reptilia', 'testudines'], 'myiarchus': ['tyrannidae', 'aves', 'passeriformes'], 'vulpes': ['canidae', 'mammalia', 'carnivora'], 'acipenser': ['acipenseridae', 'actinopterygii', 'acipenseriformes'], 'dasyprocta': ['dasyproctidae', 'mammalia', 'rodentia'], 'felis': ['felidae', 'mammalia', 'carnivora'], 'helmitheros': ['parulidae', 'aves', 'passeriformes'], 'rhinella': ['bufonidae', 'amphibia', 'anura'], 'alosa': ['clupeidae', 'actinopterygii', 'clupeiformes'], 'sturnella': ['icteridae', 'aves', 'passeriformes'], 'spatula': ['anatidae', 'aves', 'anseriformes'], 'odocoileus': ['cervidae', 'mammalia', 'artiodactyla'], 'panthera': ['felidae', 'mammalia', 'carnivora'], 'spilogale': ['mephitidae', 'mammalia', 'carnivora'], 'equus': ['equidae', 'mammalia', 'perissodactyla'], 'chinchilla': ['chinchillidae', 'mammalia', 'rodentia'], 'coendou': ['erethizontidae', 'mammalia', 'rodentia'], 'parkesia': ['parulidae', 'aves', 'passeriformes'], 'leucophaeus': ['laridae', 'aves', 'charadriiformes'], 'bombycilla': ['bombycillidae', 'aves', 'passeriformes'], 'spinus': ['fringillidae', 'aves', 'passeriformes'], 'homo': ['hominidae', 'mammalia', 'primates'], 'sayornis': ['tyrannidae', 'aves', 'passeriformes'], 'aramus': ['aramidae', 'aves', 'gruiformes'], 'pomatomus': ['pomatomidae', 'actinopterygii', 'perciformes'], 'myocastor': ['myocastoridae', 'mammalia', 'rodentia'], 'macrochelys': ['chelydridae', 'reptilia', 'testudines'], 'lagodon': ['sparidae', 'actinopterygii', 'perciformes'], 'ictinia': ['accipitridae', 'aves', 'accipitriformes'], 'limnothlypis': ['parulidae', 'aves', 'passeriformes'], 'pooecetes': ['emberizidae', 'aves', 'passeriformes'], 'ursus': ['ursidae', 'mammalia', 'carnivora'], 'rallus': ['rallidae', 'aves', 'gruiformes'], 'macaca': ['cercopithecidae', 'mammalia', 'primates'], 'larus': ['laridae', 'aves', 'charadriiformes'], 'gavia': ['gaviidae', 'aves', 'gaviiformes'], 'hybopsis': ['cyprinidae', 'actinopterygii', 'cypriniformes'], 'capra': ['bovidae', 'mammalia', 'artiodactyla'], 'chamaeleo': ['chamaeleonidae', 'reptilia', 'squamata'], 'aix': ['anatidae', 'aves', 'anseriformes'], 'aphelocoma': ['corvidae', 'aves', 'passeriformes'], 'cathartes': ['cathartidae', 'aves', 'accipitriformes']}\n"
     ]
    }
   ],
   "source": [
    "import csv\n",
    "data=open(\"/home/dpaluh/Project3_CodeFrog/Alachua_Florida_Chordates.csv\")\n",
    "\n",
    "reader = csv.DictReader(data)\n",
    "\n",
    "Taxonomy_dict={}\n",
    "\n",
    "# Read through the file and make a dictionary for genus names.\n",
    "# This gets a unique list of genus names.\n",
    "\n",
    "for Line in reader:\n",
    "    if Line['dwc:genus'] not in Taxonomy_dict:\n",
    "        Taxonomy_dict[Line['dwc:genus']]=[Line['dwc:family'],Line['dwc:class'],Line['dwc:order']]\n",
    "        \n",
    "\n",
    "        \n",
    "print(Taxonomy_dict)"
   ]
  },
  {
   "cell_type": "code",
   "execution_count": 10,
   "metadata": {},
   "outputs": [
    {
     "ename": "SyntaxError",
     "evalue": "invalid syntax (<ipython-input-10-8a2bae5177a3>, line 6)",
     "output_type": "error",
     "traceback": [
      "\u001b[0;36m  File \u001b[0;32m\"<ipython-input-10-8a2bae5177a3>\"\u001b[0;36m, line \u001b[0;32m6\u001b[0m\n\u001b[0;31m    ins=Taxonomy.insert().values(Genus=dwc:genus,\u001b[0m\n\u001b[0m                                          ^\u001b[0m\n\u001b[0;31mSyntaxError\u001b[0m\u001b[0;31m:\u001b[0m invalid syntax\n"
     ]
    }
   ],
   "source": [
    "# Add the Taxonomy_dict codes to the Taxonomy table\n",
    "\n",
    "conn = engine.connect()\n",
    "\n",
    "def insert_taxonomy(dwc:genus):\n",
    "    ins=Taxonomy.insert().values(Genus=dwc:genus,\n",
    "                                Family=dwc:family,\n",
    "                                Class=dwc:class,\n",
    "                                Order=dwc:order)\n",
    "    result = conn.execute(ins)\n",
    "\n",
    "for key, value in Taxonomy_dict.items(): \n",
    "    insert_taxonomy(key,  value[0], value[1], value[2])"
   ]
  },
  {
   "cell_type": "code",
   "execution_count": null,
   "metadata": {},
   "outputs": [],
   "source": []
  }
 ],
 "metadata": {
  "kernelspec": {
   "display_name": "Python 3",
   "language": "python",
   "name": "python3"
  },
  "language_info": {
   "codemirror_mode": {
    "name": "ipython",
    "version": 3
   },
   "file_extension": ".py",
   "mimetype": "text/x-python",
   "name": "python",
   "nbconvert_exporter": "python",
   "pygments_lexer": "ipython3",
   "version": "3.6.3"
  }
 },
 "nbformat": 4,
 "nbformat_minor": 2
}
